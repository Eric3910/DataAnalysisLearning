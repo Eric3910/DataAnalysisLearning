{
 "cells": [
  {
   "cell_type": "code",
   "execution_count": 12,
   "metadata": {},
   "outputs": [],
   "source": [
    "'''\n",
    "5 Str and spider\n",
    "5.1\n",
    "5.1.1字符串处理函数\n",
    "\n",
    "str.capitalize() 首字母大写\n",
    "str.casefold()\n",
    "str.lower()\n",
    "str.upper()\n",
    "str.count(sub[,start[,end]])统计sub出现的次数\n",
    "str.encode(encoding=\"utf-8\",errors=\"strict\")\n",
    "str.find(sub[,start[,end]])\n",
    "str.format(*args,**kwargs)格式化\n",
    "str.join(iterable)用str链接迭代对象，并返回链接后的结果\n",
    "str.striop([chars])去除str字符两端的chars字符，默认去除\"\\n\",\"\\t\",\" \",返回操作后的字符串\n",
    "str.lstrip, str.rstrip\n",
    "str.replace(old,new[,count])字符串str的子字符串old换成新的new，返回\n",
    "str.split(sep=None,maxsplit=-1)将字符串按sep分割maxsplit次，返回字符串数组\n",
    "\n",
    "'''\n",
    "s=\"I am working slowly, but never turing back.\"\n",
    "c=s.capitalize()"
   ]
  },
  {
   "cell_type": "code",
   "execution_count": 20,
   "metadata": {},
   "outputs": [
    {
     "name": "stdout",
     "output_type": "stream",
     "text": [
      "this is {0} and {1} is good! {word1} are {word2}\n",
      "this is {0} and {1} is good! {word1} are {word2}\n",
      "THIS IS {0} AND {1} IS GOOD! {WORD1} ARE {WORD2}\n"
     ]
    },
    {
     "data": {
      "text/plain": [
       "'This is {0} and {1} is good! {word1} are {word2}'"
      ]
     },
     "execution_count": 20,
     "metadata": {},
     "output_type": "execute_result"
    }
   ],
   "source": [
    "c\n",
    "id(s),id(c)\n",
    "print(s.casefold())\n",
    "print(s.lower())\n",
    "print(s.upper())\n",
    "\n",
    "s=\"111222asasas78asas\"\n",
    "s.count(\"as\")\n",
    "s.encode(encoding=\"gbk\")\n",
    "s.encode(encoding='utf8')\n",
    "\n"
   ]
  },
  {
   "cell_type": "code",
   "execution_count": 33,
   "metadata": {},
   "outputs": [
    {
     "data": {
      "text/plain": [
       "['1', '2', '3', '4', '5']"
      ]
     },
     "execution_count": 33,
     "metadata": {},
     "output_type": "execute_result"
    }
   ],
   "source": [
    "s.find(\"as\")\n",
    "s=\"This is {0} and {1} is good! {word1} are {word2}\"\n",
    "s.format(\"Python\",\"Python 3.x\",word1=\"We\",word2=\"happy!\")\n",
    "it = [\"Join\",\"the\",\"str\",\"!\"]\n",
    "it\n",
    "\" \".join(it)\n",
    "\n",
    "'\\n\\t aaa \\n\\t aaa \\n\\t'.strip()\n",
    "'\\n\\t aaa \\n\\t aaa \\n\\t'.lstrip()\n",
    "'\\n\\t aaa \\n\\t aaa \\n\\t'.rstrip()\n",
    "\"xx hello\".replace('xx','eric')\n",
    "'1,2,3,4,5'.split(',')"
   ]
  },
  {
   "cell_type": "code",
   "execution_count": 1,
   "metadata": {},
   "outputs": [
    {
     "name": "stdout",
     "output_type": "stream",
     "text": [
      "ABC\\-001\n",
      "ABC\\\\-001\n"
     ]
    },
    {
     "data": {
      "text/plain": [
       "['a', 'b', 'c', 'd']"
      ]
     },
     "execution_count": 1,
     "metadata": {},
     "output_type": "execute_result"
    }
   ],
   "source": [
    "'''\n",
    "5.1.2 Regression\n",
    "\\d匹配一个数字\n",
    "\\w一个数字或字母\n",
    ".任意字符\n",
    "''' \n",
    "import re\n",
    "s = 'ABC\\\\-001'\n",
    "print(s)\n",
    "s2 = r'ABC\\\\-001'\n",
    "print(s2)\n",
    "\n",
    "re.match(r'^\\d{3}\\-\\d{3,8}$','010-12345')\n",
    "\n",
    "'''\n",
    "切分字符串\n",
    "'''\n",
    "'a b   c'.split(' ')\n",
    "re.split(r'\\s+','a b c')\n",
    "re.split(r'[\\s\\,]+', 'a,b, c d')\n",
    "\n",
    "re.split(r'[\\s\\,\\;]+','a,b;; c  d')"
   ]
  },
  {
   "cell_type": "code",
   "execution_count": 6,
   "metadata": {},
   "outputs": [
    {
     "data": {
      "text/plain": [
       "'12345'"
      ]
     },
     "execution_count": 6,
     "metadata": {},
     "output_type": "execute_result"
    }
   ],
   "source": [
    "m = re.match(r'^(\\d{3})\\-(\\d{3,8})$','010-12345')\n",
    "m.group(0)\n",
    "m.group(1)\n",
    "m.group(2) "
   ]
  },
  {
   "cell_type": "code",
   "execution_count": 13,
   "metadata": {},
   "outputs": [
    {
     "data": {
      "text/plain": [
       "('19', '05', '30')"
      ]
     },
     "execution_count": 13,
     "metadata": {},
     "output_type": "execute_result"
    }
   ],
   "source": [
    "t='19:05:30'\n",
    "m=re.match(r'^(0[0-9]|1[0-9]|2[0-3][0-9])\\:(0[0-9]|1[0-9]|2[0-9]|3[0-9]|4[0-9]|5[0-9])\\:(0[0-9]|1[0-9]|2[0-9]|3[0-9]|4[0-9]|5[0-9])$',t)\n",
    "m.groups()"
   ]
  },
  {
   "cell_type": "code",
   "execution_count": 20,
   "metadata": {},
   "outputs": [
    {
     "data": {
      "text/plain": [
       "('010', '8086')"
      ]
     },
     "execution_count": 20,
     "metadata": {},
     "output_type": "execute_result"
    }
   ],
   "source": [
    "'''\n",
    "6. 贪婪匹\n",
    "\n",
    "'''\n",
    "re.match(r'^(\\d+)(0*)$', '102300').groups()\n",
    "re.match(r'^(\\d+?)(0*)$', '102300').groups()\n",
    "'''\n",
    "7.编译\n",
    "'''\n",
    "re_telephone = re.compile(r'^(\\d{3})-(\\d{3,8})$')\n",
    "re_telephone.match('010-12345').groups()\n",
    "re_telephone.match('010-8086').groups()"
   ]
  },
  {
   "cell_type": "code",
   "execution_count": 31,
   "metadata": {},
   "outputs": [
    {
     "name": "stdout",
     "output_type": "stream",
     "text": [
      "gb2312: b'\\xce\\xd2\\xbd\\xd0\\xd2\\xbb\\xbf\\xf0\\xd6\\xed'\n",
      "utf8 b'\\xe6\\x88\\x91\\xe5\\x8f\\xab\\xe4\\xb8\\x80\\xe7\\xad\\x90\\xe7\\x8c\\xaa'\n",
      "gbk b'\\xce\\xd2\\xbd\\xd0\\xd2\\xbb\\xbf\\xf0\\xd6\\xed'\n",
      "str 我叫一筐猪\n",
      "gb18030 b'\\xce\\xd2\\xbd\\xd0\\xd2\\xbb\\xbf\\xf0\\xd6\\xed'\n"
     ]
    }
   ],
   "source": [
    "'''\n",
    "5.1.3  编码处理\n",
    "python3 取消了unicode类型，代替使用unicode字符的字符串类型str。所以其他编码县转换成str(unicode)，在转成想要的编码。\n",
    "python 使用decode()和encode()\n",
    "bytes  decode()    str(unicode) encode()   bytes\n",
    "'''\n",
    "a = '我叫一筐猪'\n",
    "str_gb2312=a.encode('gb2312')\n",
    "print('gb2312:',str_gb2312)\n",
    "\n",
    "gb2312_utf8=str_gb2312.decode('gb2312').encode('utf-8')\n",
    "print('utf8',gb2312_utf8)\n",
    "utf8_gbk=gb2312_utf8.decode('utf-8').encode('gbk')\n",
    "print('gbk',utf8_gbk)\n",
    "utf8_str = utf8_gbk.decode('gbk')\n",
    "print('str',utf8_str)\n",
    "\n",
    "str_gb18030 = utf8_str.encode('gb18030')\n",
    "print('gb18030',str_gb18030)"
   ]
  },
  {
   "cell_type": "code",
   "execution_count": 43,
   "metadata": {},
   "outputs": [
    {
     "name": "stdout",
     "output_type": "stream",
     "text": [
      "b'\\xef\\xbb\\xbf\\xe4\\xbb\\xa5\\xe4\\xb8\\x8b\\xe6\\x98\\xaf\\xe4\\xb8\\x80\\xe4\\xba\\x9b\\xe7\\xac\\xa6\\xe5\\x8f\\xb7\\xef\\xbc\\x9a\\r\\n\\xe2\\x96\\xa0\\xce\\x94\\xe2\\x86\\x92\\xce\\xb8\\xce\\xa8\\r\\n'\n",
      "﻿以下是一些符号：\r\n",
      "■Δ→θΨ\r\n",
      "\n"
     ]
    },
    {
     "data": {
      "text/plain": [
       "{'encoding': 'UTF-8-SIG', 'confidence': 1.0, 'language': ''}"
      ]
     },
     "execution_count": 43,
     "metadata": {},
     "output_type": "execute_result"
    }
   ],
   "source": [
    "with open(r'sourcedata/f_utf8.txt','rb') as file :\n",
    "    f = file.read()\n",
    "print(f)\n",
    "f1 = f.decode('utf8')\n",
    "print(f1)\n",
    "import chardet\n",
    "chardet.detect(f)"
   ]
  },
  {
   "cell_type": "code",
   "execution_count": 48,
   "metadata": {},
   "outputs": [
    {
     "data": {
      "text/plain": [
       "{'encoding': 'utf-8', 'confidence': 0.99, 'language': ''}"
      ]
     },
     "execution_count": 48,
     "metadata": {},
     "output_type": "execute_result"
    }
   ],
   "source": [
    "'''\n",
    "5.2 Spider\n",
    "\n",
    "'''\n",
    "from urllib import request\n",
    "fp = request.urlopen('http://e.buaa.edu.cn')\n",
    "content = fp.read()\n",
    "fp.close()\n",
    "type(content)\n",
    "html = content.decode()\n"
   ]
  },
  {
   "cell_type": "code",
   "execution_count": 52,
   "metadata": {},
   "outputs": [
    {
     "name": "stdout",
     "output_type": "stream",
     "text": [
      "utf-8\n"
     ]
    }
   ],
   "source": [
    "import chardet\n",
    "det = chardet.detect(content)\n",
    "det\n",
    "if det['confidence']>0.8:\n",
    "    html=content.decode(det['encoding'])\n",
    "    print(det['encoding'])\n",
    "else:\n",
    "    html = content.decode('gbk')\n",
    "    print(det['encoding'])\n",
    "    "
   ]
  },
  {
   "cell_type": "code",
   "execution_count": 57,
   "metadata": {},
   "outputs": [
    {
     "data": {
      "text/plain": [
       "<!DOCTYPE html>\n",
       "<html lang=\"en-us\">\n",
       "<head>\n",
       "<meta charset=\"utf-8\"/>\n",
       "<title>北京航空航天大学 内网访问 WebVPN</title>\n",
       "<meta content=\"北京航空航天大学VPN,北京航空航天大学WebVPN,北京航空航天大学内网访问, 北京航空航天大学访问控制系统, 北京航空航天大学内网登陆, vpn, 北京航空航天大学, 内网访问\" name=\"keywords\"/>\n",
       "<meta content=\"北京航空航天大学WebVPN免客户端免配置，一键访问内网服务器\" name=\"description\"/>\n",
       "<meta content=\"http://www.webvpn.net.cn\" name=\"author\"/>\n",
       "<meta content=\"width=device-width, initial-scale=1.0, maximum-scale=1.0, user-scalable=0\" name=\"viewport\"/>\n",
       "<meta content=\"webkit\" name=\"renderer\"/>\n",
       "<meta content=\"webkit\" name=\"force-rendering\"/>\n",
       "<meta content=\"IE=edge\" http-equiv=\"X-UA-Compatible\"/>\n",
       "<!-- #CSS Links -->\n",
       "<link data-turbolinks-track=\"true\" href=\"/assets/application-a873222a411c6d4aa85aafc0018d69f2468727bd6702df116074c2cbfc90c844.css\" media=\"all\" rel=\"stylesheet\"/>\n",
       "<!-- #FAVICONS -->\n",
       "<link href=\"/favicon.ico\" rel=\"shortcut icon\" type=\"image/x-icon\"/>\n",
       "<link href=\"/favicon.ico\" rel=\"icon\" type=\"image/x-icon\"/>\n",
       "<!-- iOS web-app metas : hides Safari UI Components and Changes Status Bar Appearance -->\n",
       "<meta content=\"yes\" name=\"apple-mobile-web-app-capable\"/>\n",
       "<meta content=\"black\" name=\"apple-mobile-web-app-status-bar-style\"/>\n",
       "<!--[if lt IE 9]>\n",
       "\t\t\t\t\t<link rel=\"stylesheet\" media=\"screen\" href=\"/assets/ie8-28b179c77370c961e7fedfb2df4fd0fa1b339eb621c210b6149cd9803ce0b434.css\" data-turbolinks-track=\"true\" />\n",
       "\t\t\t\t<![endif]-->\n",
       "<meta content=\"authenticity_token\" name=\"csrf-param\"/>\n",
       "<meta content=\"WHSBCxw9xBwWxx4pzVDd0aqAfbE9R+ERs38XAjUQXc4F1iBaJuNc4hShRDbrbQd28dZ9oUpkJzdGFxXcjGh3Gw==\" name=\"csrf-token\"/>\n",
       "</head>\n",
       "<body><noscript><div class=\"no-js\">请先启用JavaScript</div></noscript>\n",
       "<div class=\"container\" id=\"canvas\">\n",
       "<div class=\"brand row col-xs-12\">\n",
       "<div class=\"org_title\">北京航空航天大学 | <small>内网访问</small></div>\n",
       "</div>\n",
       "<div class=\"content row\">\n",
       "<div class=\"notice col-md-6 col-xs-12\">\n",
       "<div class=\"panel\">\n",
       "<div class=\"panel-heading\">\n",
       "                          温馨提示\n",
       "                          <button aria-label=\"Close\" class=\"close hidden-md hidden-lg\" data-dismiss=\"alert\" data-target=\".notice\" type=\"button\"><span aria-hidden=\"true\">×</span></button>\n",
       "</div>\n",
       "<div class=\"panel-body\">\n",
       "<p>    根据相关管理办法规定，毕业生统一认证帐号于2018年10月1日注销。由此给您带来的不便，敬请谅解。<br/>\n",
       "<br/>    登录VPN时多次尝试错误密码会导致账号被锁定，一段时间后会自动解锁。如您的账号被锁，请您等待一个小时后再次尝试。\n",
       "<br/><br/>\n",
       "<br/>    VPN系统使用账号为统一认证账号，您可以访问统一身份认证网关（<a href=\"https://sso.buaa.edu.cn/\">https://sso.buaa.edu.cn/</a>）验证您的账号密码是否正确。\n",
       "<br/><br/>\n",
       "<br/>    如果您忘记统一认证账号密码，请前往统一认证用户注册中心（<a href=\"https://ucs.buaa.edu.cn/\">https://ucs.buaa.edu.cn/</a>）找回密码。<br/>\n",
       "<br/>    同时，如果您在使用WebVPN的过程中遇到其他任何问题，请发送邮件至vpn@buaa.edu.cn反馈，我们会尽快响应，祝您使用愉快！\n",
       "<br/><br/>\n",
       "<br/>信息化办公室</p>\n",
       "</div>\n",
       "</div>\n",
       "</div>\n",
       "<div class=\"login-form col-md-4 col-md-offset-1 col-sm-12 col-xs-12\">\n",
       "<h3>用户登录</h3>\n",
       "<div class=\"alert alert-warning alert-dismissible\" id=\"login-info\" role=\"alert\" style=\"display:none;\">\n",
       "<button aria-label=\"Close\" class=\"close\" data-dismiss=\"alert\" type=\"button\">\n",
       "<span aria-hidden=\"true\">×</span></button>\n",
       "<div class=\"body\"></div>\n",
       "</div>\n",
       "<form accept-charset=\"UTF-8\" action=\"/users/sign_in\" class=\"smart-form\" id=\"login-form\" method=\"post\" role=\"form\"><input name=\"utf8\" type=\"hidden\" value=\"✓\"/><input name=\"authenticity_token\" type=\"hidden\" value=\"hw18hpfDEfZ9i09axpakG0u7W09IAbExTOeoFHX3k3jar93XrR2JCH/tFUXgq368EO1bXz8idxe5j6rKzI+5rQ==\"/>\n",
       "<div class=\"liner\">\n",
       "<div class=\"form-group\"><label class=\"sr-only control-label\" for=\"user_login\">登录名</label><div class=\"input-group\"><span class=\"input-group-addon\"><i class=\"glyphicon glyphicon-user\"></i></span><input autofocus=\"autofocus\" class=\"form-control\" data-placement=\"top\" data-toggle=\"tooltip\" id=\"user_login\" name=\"user[login]\" placeholder=\"统一认证账号\" title=\"请输入统一认证账号\" type=\"text\"/></div></div>\n",
       "</div>\n",
       "<div class=\"liner \">\n",
       "<div class=\"form-group\"><label class=\"sr-only control-label required\" for=\"user_password\">密码</label><div class=\"input-group\"><span class=\"input-group-addon\"><i class=\"glyphicon glyphicon-lock\"></i></span><input class=\"form-control\" data-placement=\"top\" data-toggle=\"tooltip\" id=\"user_password\" maxlength=\"72\" name=\"user[password]\" placeholder=\"统一认证密码\" size=\"72\" title=\"请输入统一认证密码\" type=\"password\"/><span class=\"input-group-addon\"></span></div></div>\n",
       "</div>\n",
       "<div class=\"col-md-6 col-md-offset-6 login-btn\">\n",
       "<input class=\"btn\" name=\"commit\" type=\"submit\" value=\"登录 Login\"/>\n",
       "</div>\n",
       "</form> <div class=\"col-md-12\" style=\"margin-top: 5px; padding: 0 0\">\n",
       "</div>\n",
       "</div>\n",
       "</div>\n",
       "</div>\n",
       "<footer class=\"text-center fixed-bottom\">\n",
       "<div class=\"logo\">\n",
       "<img src=\"/images/logo-1.png\"/>\n",
       "</div>\n",
       "<div class=\"links\">\n",
       "            北京航空航天大学 2019  © 瑞智康诚 \n",
       "          </div>\n",
       "</footer>\n",
       "<script data-turbolinks-track=\"true\" src=\"/assets/application-48db3c8f12403d1dd3f863bbf86e7ccb17396c8375f35fb0d624b526d0f56c16.js\"></script>\n",
       "<script>\n",
       "     $(function () {\n",
       "         $('[data-toggle=\"tooltip\"]').tooltip();\n",
       "\n",
       "         $(\"body.login\").backstretch(\"/public/bg\");\n",
       "     });\n",
       "\n",
       "\n",
       "     var sms = false;\n",
       "     var wechat = false;\n",
       "     var wait=60;\n",
       "     function time(o) {\n",
       "         if (wait <= 0) {\n",
       "             o.removeAttr(\"disabled\");\n",
       "             o.text(\"重新发送\");\n",
       "             wait = 60;\n",
       "         } else {\n",
       "             o.attr(\"disabled\", true);\n",
       "             o.text(\"等待\" + wait + \"秒\");\n",
       "             wait--;\n",
       "             setTimeout(function() {\n",
       "                 time(o)\n",
       "             },\n",
       "                        1000)\n",
       "         }\n",
       "     }\n",
       "\n",
       "     function sms_otp(){\n",
       "         $.post(\"/users/otp?sms=1\", {login: $('#user_login').val()}, otp_status('正在发送密码...'), 'json').done(function(data){\n",
       "             otp_status(\"密码已发送到手机\");\n",
       "             time($('#random_psw'));\n",
       "         }).fail(function(data){\n",
       "             error_msg(data.responseJSON);\n",
       "         });\n",
       "     }\n",
       "\n",
       "     function wechat_otp(){\n",
       "         $.post(\"/users/otp\", {login: $('#user_login').val()}, otp_status('正在发送密码...'), 'json').done(function(data){\n",
       "             otp_status(\"密码已发送到手机\");\n",
       "             time($('#random_psw'));\n",
       "         }).fail(function(data){\n",
       "             error_msg(data.responseJSON);\n",
       "         });\n",
       "     }\n",
       "\n",
       "     function otp_status(text){\n",
       "       $(\"#user_password\").attr('placeholder',text);\n",
       "     }\n",
       "\n",
       "     function error_msg(message){\n",
       "         err = message['err']\n",
       "         msg = message['msg']\n",
       "         via = message['via']\n",
       "         if(err=='time'){\n",
       "             $(\"#login-info .body\").text(msg);\n",
       "         }else if(via=='wechat'){\n",
       "             $(\"#login-info .body\").html('密码发送失败，<a href=\"javascript:sms_otp();\" class=\"highlight\">点此通过短信下发</a>');\n",
       "         }else if(via=='sms'){\n",
       "             $(\"#login-info .body\").text('密码发送失败，可能是没有绑定正确的手机号码');\n",
       "         }else{\n",
       "             $(\"#login-info .body\").text(msg);\n",
       "         }\n",
       "         $(\"#login-info\").show();\n",
       "     }\n",
       "\n",
       "     $(function(){\n",
       "         $('#random_psw').click(function(){\n",
       "             if(wechat) {\n",
       "                 wechat_otp();\n",
       "             }else if(sms){\n",
       "                 sms_otp();\n",
       "             }\n",
       "\n",
       "         });\n",
       "         $('#link_use_otp').click(function(){\n",
       "             $('#link_use_otp').toggle();\n",
       "             $('#random_psw').toggle();\n",
       "         });\n",
       "\n",
       "     });\n",
       "\n",
       "     $(function() {\n",
       "        $(\"#omniauth_cas\").click(function(){\n",
       "          window.location = \"\";\n",
       "        });\n",
       "        $(\"#oauth\").click(function(){\n",
       "          window.location = \"\";\n",
       "        });\n",
       "        $(\"#wechat_qiye\").click(function(){\n",
       "          window.location = \"\";\n",
       "        });\n",
       "        $(\"#ucas\").click(function(){\n",
       "          window.location = \"http://sep.ucas.ac.cn/\";\n",
       "        });\n",
       "        $(\"#pku\").click(function(){\n",
       "          window.location = \"https://iaaa.pku.edu.cn/iaaa/oauth.jsp?appID=webvpn&amp;appName=WebVPN&amp;redirectUrl=https%3a%2f%2fw.pku.edu.cn%2fusers%2fauth%2fpkuauth%2fcallback\";\n",
       "        });\n",
       "     });\n",
       "    </script>\n",
       "</body></html>"
      ]
     },
     "execution_count": 57,
     "metadata": {},
     "output_type": "execute_result"
    }
   ],
   "source": [
    "'''\n",
    "Beautiful Soup\n",
    "从HTML或者XML抓内容\n",
    "自动将输入转为unicode编码，输出转化为utf8\n",
    "'''\n",
    "from bs4 import BeautifulSoup\n",
    "soup = BeautifulSoup(html)\n",
    "soup"
   ]
  },
  {
   "cell_type": "code",
   "execution_count": 81,
   "metadata": {
    "scrolled": true
   },
   "outputs": [
    {
     "name": "stdout",
     "output_type": "stream",
     "text": [
      "{'href': 'https://sso.buaa.edu.cn/'}\n",
      "https://sso.buaa.edu.cn/\n",
      "________________________________________\n",
      "{'href': 'https://ucs.buaa.edu.cn/'}\n",
      "https://ucs.buaa.edu.cn/\n",
      "________________________________________\n",
      "meta\n",
      "{'name': 'renderer', 'content': 'webkit'}\n",
      "----------------------------------------\n"
     ]
    }
   ],
   "source": [
    "for a in soup.findAll(name='a'):\n",
    "    print(a.attrs)\n",
    "    print(a.string)\n",
    "    print('____'*10)\n",
    "    \n",
    "for tag in soup.findAll(attrs = {'name':'renderer'}):\n",
    "    print(tag.name)\n",
    "    print(tag.attrs)\n",
    "    print(\"----\"*10)"
   ]
  },
  {
   "cell_type": "code",
   "execution_count": 82,
   "metadata": {},
   "outputs": [],
   "source": [
    "'''\n",
    "5.2.3 数据存储\n",
    "1. 存到csv\n",
    "\n",
    "'''\n",
    "csv = \"\"\"id,name,score\n",
    "1,xiaohua,23\n",
    "2,xiaoming,67\n",
    "3,xiaognag,89\"\"\"\n",
    "with open('sourcedata/test.csv','w') as f:\n",
    "    f.write(csv)"
   ]
  },
  {
   "cell_type": "code",
   "execution_count": 84,
   "metadata": {},
   "outputs": [
    {
     "name": "stdout",
     "output_type": "stream",
     "text": [
      "id,name,score\n",
      "1,xiaohua,23\n",
      "2,xiaoming,67\n",
      "3,xiaognag,89\n"
     ]
    }
   ],
   "source": [
    "with open('sourcedata/test.csv','r') as f2:\n",
    "    print(f2.read())"
   ]
  },
  {
   "cell_type": "code",
   "execution_count": 89,
   "metadata": {},
   "outputs": [
    {
     "ename": "OperationalError",
     "evalue": "table info already exists",
     "output_type": "error",
     "traceback": [
      "\u001b[0;31m---------------------------------------------------------------------------\u001b[0m",
      "\u001b[0;31mOperationalError\u001b[0m                          Traceback (most recent call last)",
      "\u001b[0;32m<ipython-input-89-d958f0e5a306>\u001b[0m in \u001b[0;36m<module>\u001b[0;34m\u001b[0m\n\u001b[1;32m      9\u001b[0m \u001b[0mid\u001b[0m \u001b[0mtext\u001b[0m\u001b[0;34m,\u001b[0m\u001b[0;34m\u001b[0m\u001b[0;34m\u001b[0m\u001b[0m\n\u001b[1;32m     10\u001b[0m \u001b[0mname\u001b[0m \u001b[0mtext\u001b[0m\u001b[0;34m,\u001b[0m\u001b[0;34m\u001b[0m\u001b[0;34m\u001b[0m\u001b[0m\n\u001b[0;32m---> 11\u001b[0;31m score text)\"\"\")\n\u001b[0m\u001b[1;32m     12\u001b[0m \u001b[0mdb\u001b[0m\u001b[0;34m.\u001b[0m\u001b[0mcommit\u001b[0m\u001b[0;34m(\u001b[0m\u001b[0;34m)\u001b[0m\u001b[0;34m\u001b[0m\u001b[0;34m\u001b[0m\u001b[0m\n",
      "\u001b[0;31mOperationalError\u001b[0m: table info already exists"
     ]
    }
   ],
   "source": [
    "'''\n",
    "2. 保存到数据库s\n",
    "'''\n",
    "import sqlite3 as base\n",
    "db = base.connect('sourcedata/sqltest.db')\n",
    "sur = db.cursor()\n",
    "\n",
    "sur.execute(\"\"\"create table info(\n",
    "id text,\n",
    "name text,\n",
    "score text)\"\"\")\n",
    "db.commit()"
   ]
  },
  {
   "cell_type": "code",
   "execution_count": 91,
   "metadata": {},
   "outputs": [
    {
     "data": {
      "text/plain": [
       "<sqlite3.Cursor at 0x10b9c7030>"
      ]
     },
     "execution_count": 91,
     "metadata": {},
     "output_type": "execute_result"
    }
   ],
   "source": [
    "sur.execute(\"insert into info values ('1','xiaohua','23')\")\n",
    "sur.execute(\"insert into info values ('2','xiaoming','67')\")\n",
    "sur.execute(\"insert into info values ('3','xiaoguan','89')\")"
   ]
  },
  {
   "cell_type": "code",
   "execution_count": 92,
   "metadata": {},
   "outputs": [],
   "source": [
    "db.commit()\n",
    "sur.close()\n",
    "db.close()"
   ]
  },
  {
   "cell_type": "code",
   "execution_count": null,
   "metadata": {},
   "outputs": [],
   "source": []
  }
 ],
 "metadata": {
  "kernelspec": {
   "display_name": "Python 3",
   "language": "python",
   "name": "python3"
  },
  "language_info": {
   "codemirror_mode": {
    "name": "ipython",
    "version": 3
   },
   "file_extension": ".py",
   "mimetype": "text/x-python",
   "name": "python",
   "nbconvert_exporter": "python",
   "pygments_lexer": "ipython3",
   "version": "3.7.1"
  }
 },
 "nbformat": 4,
 "nbformat_minor": 2
}
