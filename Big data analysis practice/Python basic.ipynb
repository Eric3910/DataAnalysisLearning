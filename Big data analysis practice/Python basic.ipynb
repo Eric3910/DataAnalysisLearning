{
 "cells": [
  {
   "cell_type": "code",
   "execution_count": null,
   "metadata": {},
   "outputs": [],
   "source": [
    "'''\n",
    "约瑟夫问题\n",
    "'''\n",
    "\n",
    "def move(man,sep):\n",
    "    '''\n",
    "    man list leftwards move to sep units, the first element on the left added to the tail of the list.\n",
    "    '''\n",
    "    for i in range(sep):\n",
    "        item = man.pop(0)\n",
    "        man.append(item)\n",
    "\n",
    "def play(man,seq,rest):\n",
    "    '''\n",
    "    man = men count\n",
    "    seq = sequence to kill\n",
    "    rest = survivors number\n",
    "    \n",
    "    '''\n",
    "    print('{}men in total, the {}rd one will be eliminated, survivors are {}'.format(man,seq,rest))\n",
    "    man = [i for i in range(1,man+1)]\n",
    "    seq -= 1\n",
    "    while len(man)>rest:\n",
    "        move(man,seq)\n",
    "        print('eliminated', man.pop(0))\n",
    "    return man\n",
    "survivor = play(41,3,2)\n",
    "print(survivor)"
   ]
  },
  {
   "cell_type": "code",
   "execution_count": null,
   "metadata": {},
   "outputs": [],
   "source": [
    "'''Map,filter,reduce'''\n",
    "from functools import reduce\n",
    "s= [1,2,3]\n",
    "k= map(lambda x:x+1,s)\n",
    "print(list(k))\n",
    "\n",
    "l = filter(lambda x:x%3,s)\n",
    "print(list(l))\n",
    "\n",
    "r = reduce(lambda x,y:x+y,[1,2,3])\n",
    "print(list(r))"
   ]
  },
  {
   "cell_type": "code",
   "execution_count": null,
   "metadata": {},
   "outputs": [],
   "source": [
    "class PubAndPri:\n",
    "    pub = \"this is public\"\n",
    "    __pri = \"this is private\"\n",
    "    \n",
    "    def __init__(self):\n",
    "        self.other = \"pub variable can be created \"\n",
    "    def out_pub(self):\n",
    "        print(\"public method\", self.pub , self.__pri)\n",
    "    def __out_pri(self):\n",
    "        print(\"private method\", self.pub, self.__pri)\n",
    "\n",
    "pp = PubAndPri()\n",
    "pp.out_pub()\n",
    "print(pp.pub, pp.other)\n",
    "try:\n",
    "    pp.out_pri()\n",
    "except Exception as e:\n",
    "    print(\"use private func has error\")\n",
    "finally:\n",
    "    print()\n",
    "try:\n",
    "    print(pp.__pri)\n",
    "except Exception as e:\n",
    "    print(\"use private variable has error\")\n",
    "finally:\n",
    "    print()"
   ]
  },
  {
   "cell_type": "markdown",
   "metadata": {},
   "source": [
    "### 2.5 数据分析\n",
    "#### 2.5.1 重复值处理 drop_duplicates(self,subset,keep)"
   ]
  },
  {
   "cell_type": "code",
   "execution_count": null,
   "metadata": {},
   "outputs": [],
   "source": [
    "import pandas as pd\n",
    "df = pd.DataFrame({'age':pd.Series([26,85,64,85,85]),\n",
    "                   'name':pd.Series(['Ben','John','Jerry','John','John'])})\n",
    "df.iloc[1,1]='Johns'\n",
    "df.iloc[4,1]='Eric'\n",
    "df\n",
    "df_dedup = df.drop_duplicates(['age'],keep='last')\n",
    "df_dedup"
   ]
  },
  {
   "cell_type": "markdown",
   "metadata": {},
   "source": [
    "#### 2.5.2 缺失值处理\n",
    "- 缺失数据的查找，用isnull,notnull,isna,notna"
   ]
  },
  {
   "cell_type": "code",
   "execution_count": null,
   "metadata": {},
   "outputs": [],
   "source": [
    "df = pd.DataFrame({'age':pd.Series([26,85,64,85,85]),\n",
    "                   'name':pd.Series(['Ben','John ',' Jerry ',' John','John'])})\n",
    "df.iloc[1,1]=None\n",
    "#df.iloc[0,2]=NA\n",
    "df.notnull()\n",
    "df.isnull()"
   ]
  },
  {
   "cell_type": "markdown",
   "metadata": {},
   "source": [
    "- 缺失数据处理:\n",
    "    - dropna() 去除数据为空对应行 how='any','all',axis = 0/1\n",
    "    - df.fillna()\n"
   ]
  },
  {
   "cell_type": "code",
   "execution_count": null,
   "metadata": {},
   "outputs": [],
   "source": [
    "#df.dropna(how='age')\n",
    "df.iloc[1,1]=None\n",
    "df.fillna(method='bfill')#后一个数据填充\n",
    "df.fillna(method='pad')#前一个数据填充\n",
    "df.fillna(df.mean())#用平均值填充\n"
   ]
  },
  {
   "cell_type": "code",
   "execution_count": null,
   "metadata": {},
   "outputs": [],
   "source": [
    "import numpy as np\n",
    "\n",
    "df = pd.DataFrame(np.random.randint(0,10,(1,36)).reshape((6,6)),index = ['A','B','C','D','E','F'])\n",
    "\n",
    "df\n"
   ]
  },
  {
   "cell_type": "code",
   "execution_count": null,
   "metadata": {},
   "outputs": [],
   "source": [
    "import pandas as pd\n",
    "import numpy\n",
    "#字段抽取 指定位置截取\n",
    "df['age']= df['age'].astype(str)\n",
    "generation  = df['age'].str.slice(0,1) # 字符串str（）\n",
    "generation"
   ]
  },
  {
   "cell_type": "code",
   "execution_count": null,
   "metadata": {},
   "outputs": [],
   "source": [
    "#字段拆分\n",
    "#split(sep,n,expand=False)\n",
    "#sep是分隔符\n",
    "#n是新增列数量\n",
    "#expand 是否展开成数据框\n",
    "purchase_1 = pd.Series({'Name': 'Chris',\n",
    "                        'Item Purchased': 'Dog Food',\n",
    "                        'Cost': 22.50})\n",
    "purchase_2 = pd.Series({'Name': 'Kevyn',\n",
    "                        'Item Purchased': 'Kitty Litter',\n",
    "                        'Cost': 2.50})\n",
    "purchase_3 = pd.Series({'Name': 'Vinod',\n",
    "                        'Item Purchased': 'Bird Seed',\n",
    "                        'Cost': 5.00})\n",
    "\n",
    "df = pd.DataFrame([purchase_1,purchase_2,purchase_3],index = range(1,4))\n",
    "df\n",
    "words = df['Item Purchased'].str.split(\" \",1,True)\n",
    "words"
   ]
  },
  {
   "cell_type": "code",
   "execution_count": null,
   "metadata": {},
   "outputs": [],
   "source": [
    "#基于一定条件记录抽取\n",
    "'''\n",
    "df[condition]\n",
    "compare\n",
    "scope between[min,max]\n",
    "null pandas.isnull(column)\n",
    "character match: str.contains(pattern,na=False),e.g. df[df.title.str.contains('radio'),na=False]\n",
    "logic : & | not\n",
    "\n",
    "'''"
   ]
  },
  {
   "cell_type": "code",
   "execution_count": null,
   "metadata": {},
   "outputs": [],
   "source": [
    "'''\n",
    "df.loc[rowlabel,columnlabel]\n",
    "如果两个参数都是列表，返回的是DataFrame，反之是series\n",
    "\n",
    "'''\n",
    "df.loc[1:3,:]"
   ]
  },
  {
   "cell_type": "code",
   "execution_count": null,
   "metadata": {},
   "outputs": [],
   "source": [
    "'''\n",
    "df.iloc[rowindexnumber,columnindexnumber]\n",
    "iloc = integer location\n",
    "\n",
    "'''\n"
   ]
  },
  {
   "cell_type": "code",
   "execution_count": null,
   "metadata": {},
   "outputs": [],
   "source": [
    "'''\n",
    "字典数据抽取\n",
    "\n",
    "'''\n",
    "# key value as different columns\n",
    "import pandas as pd\n",
    "d1 = {'a':'[1,2,3]','b':'[0,1,2]'}\n",
    "a1 = pd.DataFrame.from_dict(d1, orient='index')\n",
    "a1.index.name = 'key'\n",
    "b1= a1.reset_index()\n",
    "b1.columns= ['key','value']\n",
    "b1"
   ]
  },
  {
   "cell_type": "code",
   "execution_count": null,
   "metadata": {},
   "outputs": [],
   "source": [
    "# every element in the dict as one column( same length)\n",
    "d2 = {'a':[1,2,3],'b':[4,5,6]}\n",
    "a2 = pd.DataFrame(d2)\n",
    "a2"
   ]
  },
  {
   "cell_type": "code",
   "execution_count": null,
   "metadata": {},
   "outputs": [],
   "source": [
    "# every element in the dict as one column(different length)\n",
    "d={'one':pd.Series([1,2,3]),\n",
    "   'two':pd.Series([1,2,3,4])}\n",
    "df = pd.DataFrame(d)\n",
    "df"
   ]
  },
  {
   "cell_type": "code",
   "execution_count": null,
   "metadata": {},
   "outputs": [],
   "source": [
    "#use np.array as dict element\n",
    "import numpy as np\n",
    "\n",
    "d = dict(A=np.array([1,2]),B=np.array([1,2,3,4]))\n",
    " \n",
    "df = pd.DataFrame(dict([(k,pd.Series(v)) for k,v in d.items()]))\n",
    "df\n",
    "\n",
    "a=dict([(k,pd.Series(v)) for k,v in d.items()])\n",
    "a"
   ]
  },
  {
   "cell_type": "code",
   "execution_count": null,
   "metadata": {},
   "outputs": [],
   "source": [
    "for k,v in d.items():\n",
    "    print(k,pd.Series(v))\n",
    "    print(type(k))\n",
    "    print(type(v))\n",
    "    print(type(pd.Series(v)))"
   ]
  },
  {
   "cell_type": "code",
   "execution_count": null,
   "metadata": {},
   "outputs": [],
   "source": [
    "my_dict = dict(A=np.array([1,2]),B=np.array([1,2,3,4]))\n",
    "df = pd.DataFrame.from_dict(my_dict,orient='index').T\n",
    "df"
   ]
  },
  {
   "cell_type": "code",
   "execution_count": null,
   "metadata": {},
   "outputs": [],
   "source": [
    "### insert record in pandas\n",
    "\n",
    "df = pd.DataFrame({'a':[1,2,3],'b':['a','b','c'],'c':['A','B','C']})\n",
    "df\n",
    "line = pd.DataFrame({df.columns[0]:\"--\",\n",
    "                    df.columns[1]:\"--\",\n",
    "                    df.columns[2]:\"--\"},\n",
    "                   index=[1])\n",
    "df0 = pd.concat([df.loc[:0],line,df.loc[1:]])\n",
    "df"
   ]
  },
  {
   "cell_type": "code",
   "execution_count": null,
   "metadata": {},
   "outputs": [],
   "source": [
    "df0"
   ]
  },
  {
   "cell_type": "code",
   "execution_count": null,
   "metadata": {},
   "outputs": [],
   "source": [
    "df1=df0.reset_index(drop=True)\n",
    "df1"
   ]
  },
  {
   "cell_type": "code",
   "execution_count": null,
   "metadata": {},
   "outputs": [],
   "source": [
    "from pandas import read_excel\n",
    "df = pd.read_excel('sourcedata/i_nuc.xls',sheet_name='Sheet3')\n",
    "df\n",
    "df2 = df.loc[:,'英语']\n",
    "df2\n",
    "randScore = np.random.randint(0,100,21)\n",
    "randScore\n",
    "df3= df\n",
    "df['英语']=pd.Series(randScore)\n",
    "type(df.loc[0,'体育'])\n",
    "type(df.loc[0,'英语'])\n",
    "type(pd.Series(randScore).loc[0])\n",
    "df  # 如果用外界数据替换datafram中的数据，如果有缺失值，则导入的数据会自动转成float"
   ]
  },
  {
   "cell_type": "code",
   "execution_count": null,
   "metadata": {},
   "outputs": [],
   "source": [
    "df4=df.replace({'作弊':'缺考'})\n",
    "df4"
   ]
  },
  {
   "cell_type": "code",
   "execution_count": null,
   "metadata": {},
   "outputs": [],
   "source": [
    "#df.replace\n",
    "#Series对象值替换\n",
    "s = df.iloc[2]#获取行索引为2数据\n",
    "#单值替换\n",
    "s.replace('?',np.nan)#用np.nan替换？\n",
    "s.replace({'?':'NA'})#用NA替换？\n",
    "#多值替换\n",
    "s.replace(['?',r'$'],[np.nan,'NA'])#列表值替换\n",
    "s.replace({'?':np.nan,'$':'NA'})#字典映射\n",
    "#同缺失值填充方法类似\n",
    "s.replace(['?','$'],method='pad')#向前填充\n",
    "s.replace(['?','$'],method='ffill')#向前填充\n",
    "s.replace(['?','$'],method='bfill')#向后填充\n",
    "#limit参数控制填充次数\n",
    "s.replace(['?','$'],method='bfill',limit=1)\n",
    "#DataFrame对象值替换\n",
    "#单值替换\n",
    "df.replace('?',np.nan)#用np.nan替换？\n",
    "df.replace({'?':'NA'})#用NA替换？\n",
    "#按列指定单值替换\n",
    "df.replace({'EMPNO':'?'},np.nan)#用np.nan替换EMPNO列中?\n",
    "df.replace({'EMPNO':'?','ENAME':'.'},np.nan)#用np.nan替换EMPNO列中?和ENAME中.\n",
    "#多值替换\n",
    "df.replace(['?','.','$'],[np.nan,'NA','None'])##用np.nan替换？用NA替换. 用None替换$\n",
    "df.replace({'?':'NA','$':None})#用NA替换？ 用None替换$\n",
    "df.replace({'?','$'},{'NA',None})#用NA替换？ 用None替换$\n",
    "#正则替换\n",
    "df.replace(r'\\?|\\.|\\$',np.nan,regex=True)#用np.nan替换？或.或$原字符\n",
    "df.replace([r'\\?',r'\\$'],np.nan,regex=True)#用np.nan替换？和$\n",
    "df.replace([r'\\?',r'\\$'],[np.nan,'NA'],regex=True)#用np.nan替换？用NA替换$符号\n",
    "df.replace(regex={r'\\?':None})\n",
    "#value参数显示传递\n",
    "df.replace(regex=[r'\\?|\\.|\\$'],value=np.nan)#用np.nan替换？或.或$原字符\n"
   ]
  },
  {
   "cell_type": "code",
   "execution_count": null,
   "metadata": {},
   "outputs": [],
   "source": [
    "###交换行或者列\n",
    "df = pd.DataFrame({'a':[1,2,3],\n",
    "                   'b':['a','b','c'],\n",
    "                   'c':['A','B','C']})\n",
    "df\n",
    "hang= [0,2,1]\n",
    "df.reindex(hang) # 行交换\n",
    "lie = ['a','c','b']\n",
    "df.reindex(columns =lie) #列交换"
   ]
  },
  {
   "cell_type": "code",
   "execution_count": null,
   "metadata": {},
   "outputs": [],
   "source": [
    "df = pd.DataFrame({'a':[1,2,3],\n",
    "                   'b':['a','b','c'],\n",
    "                   'c':['A','B','C']})\n",
    "print(df.loc[[0,2],:])\n",
    "#df.loc[[0,2],:]=df.loc[[2,0],:].values #0,2 two row swap\n",
    "#df\n",
    "df.loc[:,['a','b']]=df.loc[:,['b','a']].values # two columns swap\n",
    "df\n",
    "#### notes: just change the value of the row or column, not the index "
   ]
  },
  {
   "cell_type": "code",
   "execution_count": null,
   "metadata": {},
   "outputs": [],
   "source": [
    "name = list(df.columns)\n",
    "i = name.index(\"a\")\n",
    "j = name.index(\"b\")\n",
    "print(i,j)\n",
    "name[i],name[j]=name[j],name[i]\n",
    "print(name)\n",
    "df.columns= name\n",
    "df"
   ]
  },
  {
   "cell_type": "code",
   "execution_count": null,
   "metadata": {},
   "outputs": [],
   "source": [
    "\n"
   ]
  },
  {
   "cell_type": "code",
   "execution_count": 4,
   "metadata": {},
   "outputs": [],
   "source": []
  },
  {
   "cell_type": "code",
   "execution_count": null,
   "metadata": {},
   "outputs": [],
   "source": []
  }
 ],
 "metadata": {
  "kernelspec": {
   "display_name": "Python 3",
   "language": "python",
   "name": "python3"
  },
  "language_info": {
   "codemirror_mode": {
    "name": "ipython",
    "version": 3
   },
   "file_extension": ".py",
   "mimetype": "text/x-python",
   "name": "python",
   "nbconvert_exporter": "python",
   "pygments_lexer": "ipython3",
   "version": "3.7.1"
  }
 },
 "nbformat": 4,
 "nbformat_minor": 2
}
