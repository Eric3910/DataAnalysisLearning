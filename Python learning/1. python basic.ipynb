{
 "cells": [
  {
   "cell_type": "code",
   "execution_count": 1,
   "metadata": {},
   "outputs": [
    {
     "name": "stdout",
     "output_type": "stream",
     "text": [
      "matplotlib: 3.0.2\n",
      "sklearn: 0.20.1\n",
      "scipy: 1.1.0\n",
      "seaborn: 0.9.0\n",
      "pandas: 0.23.4\n",
      "numpy: 1.15.4\n",
      "Python: 3.7.1 (default, Dec 14 2018, 13:28:58) \n",
      "[Clang 4.0.1 (tags/RELEASE_401/final)]\n"
     ]
    }
   ],
   "source": [
    "#from plotly.offline import download_plotlyjs, init_notebook_mode, plot, iplot\n",
    "#import matplotlib.pyplot as plt\n",
    "#import plotly.graph_objs as go\n",
    "import scipy.stats as stats\n",
    "#import plotly.plotly as py\n",
    "import seaborn as sns\n",
    "import pandas as pd\n",
    "import numpy as np\n",
    "import matplotlib\n",
    "import warnings\n",
    "import sklearn\n",
    "import scipy\n",
    "import json\n",
    "import sys\n",
    "import csv\n",
    "import os\n",
    "from importlib import reload\n",
    "\n",
    "\n",
    "print('matplotlib: {}'.format(matplotlib.__version__))\n",
    "print('sklearn: {}'.format(sklearn.__version__))\n",
    "print('scipy: {}'.format(scipy.__version__))\n",
    "print('seaborn: {}'.format(sns.__version__))\n",
    "print('pandas: {}'.format(pd.__version__))\n",
    "print('numpy: {}'.format(np.__version__))\n",
    "print('Python: {}'.format(sys.version))"
   ]
  },
  {
   "cell_type": "code",
   "execution_count": null,
   "metadata": {},
   "outputs": [],
   "source": [
    "https://www.kaggle.com/mjbahmani/the-data-scientist-s-toolbox-tutorial-1/"
   ]
  },
  {
   "cell_type": "code",
   "execution_count": 28,
   "metadata": {},
   "outputs": [
    {
     "data": {
      "text/plain": [
       "[OrderedDict([('Id', '2'),\n",
       "              ('MSSubClass', '20'),\n",
       "              ('MSZoning', 'RL'),\n",
       "              ('LotFrontage', '80'),\n",
       "              ('LotArea', '9600'),\n",
       "              ('Street', 'Pave'),\n",
       "              ('Alley', 'NA'),\n",
       "              ('LotShape', 'Reg'),\n",
       "              ('LandContour', 'Lvl'),\n",
       "              ('Utilities', 'AllPub'),\n",
       "              ('LotConfig', 'FR2'),\n",
       "              ('LandSlope', 'Gtl'),\n",
       "              ('Neighborhood', 'Veenker'),\n",
       "              ('Condition1', 'Feedr'),\n",
       "              ('Condition2', 'Norm'),\n",
       "              ('BldgType', '1Fam'),\n",
       "              ('HouseStyle', '1Story'),\n",
       "              ('OverallQual', '6'),\n",
       "              ('OverallCond', '8'),\n",
       "              ('YearBuilt', '1976'),\n",
       "              ('YearRemodAdd', '1976'),\n",
       "              ('RoofStyle', 'Gable'),\n",
       "              ('RoofMatl', 'CompShg'),\n",
       "              ('Exterior1st', 'MetalSd'),\n",
       "              ('Exterior2nd', 'MetalSd'),\n",
       "              ('MasVnrType', 'None'),\n",
       "              ('MasVnrArea', '0'),\n",
       "              ('ExterQual', 'TA'),\n",
       "              ('ExterCond', 'TA'),\n",
       "              ('Foundation', 'CBlock'),\n",
       "              ('BsmtQual', 'Gd'),\n",
       "              ('BsmtCond', 'TA'),\n",
       "              ('BsmtExposure', 'Gd'),\n",
       "              ('BsmtFinType1', 'ALQ'),\n",
       "              ('BsmtFinSF1', '978'),\n",
       "              ('BsmtFinType2', 'Unf'),\n",
       "              ('BsmtFinSF2', '0'),\n",
       "              ('BsmtUnfSF', '284'),\n",
       "              ('TotalBsmtSF', '1262'),\n",
       "              ('Heating', 'GasA'),\n",
       "              ('HeatingQC', 'Ex'),\n",
       "              ('CentralAir', 'Y'),\n",
       "              ('Electrical', 'SBrkr'),\n",
       "              ('1stFlrSF', '1262'),\n",
       "              ('2ndFlrSF', '0'),\n",
       "              ('LowQualFinSF', '0'),\n",
       "              ('GrLivArea', '1262'),\n",
       "              ('BsmtFullBath', '0'),\n",
       "              ('BsmtHalfBath', '1'),\n",
       "              ('FullBath', '2'),\n",
       "              ('HalfBath', '0'),\n",
       "              ('BedroomAbvGr', '3'),\n",
       "              ('KitchenAbvGr', '1'),\n",
       "              ('KitchenQual', 'TA'),\n",
       "              ('TotRmsAbvGrd', '6'),\n",
       "              ('Functional', 'Typ'),\n",
       "              ('Fireplaces', '1'),\n",
       "              ('FireplaceQu', 'TA'),\n",
       "              ('GarageType', 'Attchd'),\n",
       "              ('GarageYrBlt', '1976'),\n",
       "              ('GarageFinish', 'RFn'),\n",
       "              ('GarageCars', '2'),\n",
       "              ('GarageArea', '460'),\n",
       "              ('GarageQual', 'TA'),\n",
       "              ('GarageCond', 'TA'),\n",
       "              ('PavedDrive', 'Y'),\n",
       "              ('WoodDeckSF', '298'),\n",
       "              ('OpenPorchSF', '0'),\n",
       "              ('EnclosedPorch', '0'),\n",
       "              ('3SsnPorch', '0'),\n",
       "              ('ScreenPorch', '0'),\n",
       "              ('PoolArea', '0'),\n",
       "              ('PoolQC', 'NA'),\n",
       "              ('Fence', 'NA'),\n",
       "              ('MiscFeature', 'NA'),\n",
       "              ('MiscVal', '0'),\n",
       "              ('MoSold', '5'),\n",
       "              ('YrSold', '2007'),\n",
       "              ('SaleType', 'WD'),\n",
       "              ('SaleCondition', 'Normal'),\n",
       "              ('SalePrice', '181500')])]"
      ]
     },
     "execution_count": 28,
     "metadata": {},
     "output_type": "execute_result"
    }
   ],
   "source": [
    "with open('input/train.csv') as csvfile:\n",
    "    house_train = list(csv.DictReader(csvfile))\n",
    "    \n",
    "house_train[1:2] # The first three dictionaries in our list.\n",
    "\n",
    "#house_train[0]"
   ]
  },
  {
   "cell_type": "code",
   "execution_count": 29,
   "metadata": {},
   "outputs": [
    {
     "data": {
      "text/plain": [
       "180921.19589041095"
      ]
     },
     "execution_count": 29,
     "metadata": {},
     "output_type": "execute_result"
    }
   ],
   "source": [
    "sum(float(d['SalePrice']) for d in house_train)/ len(house_train)"
   ]
  },
  {
   "cell_type": "code",
   "execution_count": 32,
   "metadata": {},
   "outputs": [
    {
     "name": "stdout",
     "output_type": "stream",
     "text": [
      "663\n"
     ]
    }
   ],
   "source": [
    "SalePrice = set(d['SalePrice'] for d in house_train)\n",
    "#dedup\n",
    "print(len(SalePrice))"
   ]
  },
  {
   "cell_type": "code",
   "execution_count": 33,
   "metadata": {},
   "outputs": [
    {
     "data": {
      "text/plain": [
       "collections.OrderedDict"
      ]
     },
     "execution_count": 33,
     "metadata": {},
     "output_type": "execute_result"
    }
   ],
   "source": [
    "type(house_train[0])"
   ]
  },
  {
   "cell_type": "code",
   "execution_count": 39,
   "metadata": {},
   "outputs": [
    {
     "data": {
      "text/plain": [
       "datetime.datetime(2019, 1, 25, 10, 23, 28, 81759)"
      ]
     },
     "execution_count": 39,
     "metadata": {},
     "output_type": "execute_result"
    }
   ],
   "source": [
    "import datetime as dt\n",
    "import time as tm\n",
    "tm.time()\n",
    "dtnow = dt.datetime.fromtimestamp(tm.time())\n",
    "dtnow"
   ]
  },
  {
   "cell_type": "code",
   "execution_count": 96,
   "metadata": {},
   "outputs": [
    {
     "name": "stdout",
     "output_type": "stream",
     "text": [
      "100 days, 0:00:00\n",
      "2019-05-05 10:23:28.081759\n"
     ]
    }
   ],
   "source": [
    "delta = dt.timedelta(days=100)\n",
    "dtfuture = dtnow + delta\n",
    "print(delta)\n",
    "print(dtfuture)"
   ]
  },
  {
   "cell_type": "code",
   "execution_count": 102,
   "metadata": {},
   "outputs": [
    {
     "name": "stdout",
     "output_type": "stream",
     "text": [
      "5\n",
      "2019-01-26\n"
     ]
    }
   ],
   "source": [
    "today = dt.date.today()\n",
    "print(dt.date.weekday(today))\n",
    "print(today)"
   ]
  },
  {
   "cell_type": "code",
   "execution_count": 48,
   "metadata": {},
   "outputs": [
    {
     "name": "stdout",
     "output_type": "stream",
     "text": [
      "Eric live in yanjiao and works in the departs School of Information\n"
     ]
    }
   ],
   "source": [
    "class Person:\n",
    "    department = 'School of Information' #a class variable\n",
    "\n",
    "    def set_name(self, new_name): #a method\n",
    "        self.name = new_name\n",
    "    def set_location(self, new_location):\n",
    "        self.location = new_location\n",
    "\n",
    "person = Person()\n",
    "person.set_name('Eric')\n",
    "person.set_location('yanjiao')\n",
    "\n",
    "print('{} live in {} and works in the departs {}'.format(person.name,person.location,person.department))"
   ]
  },
  {
   "cell_type": "code",
   "execution_count": 52,
   "metadata": {},
   "outputs": [],
   "source": [
    "#$my_function = lambda a,b,c: a+b\n",
    "#my_function(12,3,4)"
   ]
  },
  {
   "cell_type": "code",
   "execution_count": 107,
   "metadata": {},
   "outputs": [
    {
     "name": "stdout",
     "output_type": "stream",
     "text": [
      "[0, 2, 4, 6, 8]\n"
     ]
    },
    {
     "ename": "TypeError",
     "evalue": "filter expected 2 arguments, got 3",
     "output_type": "error",
     "traceback": [
      "\u001b[0;31m---------------------------------------------------------------------------\u001b[0m",
      "\u001b[0;31mTypeError\u001b[0m                                 Traceback (most recent call last)",
      "\u001b[0;32m<ipython-input-107-daf571c2f51c>\u001b[0m in \u001b[0;36m<module>\u001b[0;34m\u001b[0m\n\u001b[1;32m      3\u001b[0m \u001b[0mprint\u001b[0m\u001b[0;34m(\u001b[0m\u001b[0mresult\u001b[0m\u001b[0;34m)\u001b[0m\u001b[0;34m\u001b[0m\u001b[0;34m\u001b[0m\u001b[0m\n\u001b[1;32m      4\u001b[0m \u001b[0mmy_fuc2\u001b[0m \u001b[0;34m=\u001b[0m \u001b[0;32mlambda\u001b[0m \u001b[0ma\u001b[0m\u001b[0;34m,\u001b[0m\u001b[0mb\u001b[0m\u001b[0;34m:\u001b[0m \u001b[0ma\u001b[0m \u001b[0;34m==\u001b[0m \u001b[0mb\u001b[0m\u001b[0;34m\u001b[0m\u001b[0;34m\u001b[0m\u001b[0m\n\u001b[0;32m----> 5\u001b[0;31m \u001b[0mresult2\u001b[0m \u001b[0;34m=\u001b[0m \u001b[0mlist\u001b[0m\u001b[0;34m(\u001b[0m\u001b[0mfilter\u001b[0m\u001b[0;34m(\u001b[0m\u001b[0mmy_fuc2\u001b[0m\u001b[0;34m,\u001b[0m\u001b[0;34m'adwcerw'\u001b[0m\u001b[0;34m,\u001b[0m\u001b[0;34m'b'\u001b[0m\u001b[0;34m)\u001b[0m\u001b[0;34m)\u001b[0m\u001b[0;34m\u001b[0m\u001b[0;34m\u001b[0m\u001b[0m\n\u001b[0m\u001b[1;32m      6\u001b[0m \u001b[0mmy_list\u001b[0m \u001b[0;34m=\u001b[0m \u001b[0;34m[\u001b[0m\u001b[0mnumber\u001b[0m \u001b[0;32mfor\u001b[0m \u001b[0mnumber\u001b[0m \u001b[0;32min\u001b[0m \u001b[0mrange\u001b[0m\u001b[0;34m(\u001b[0m\u001b[0;36m0\u001b[0m\u001b[0;34m,\u001b[0m\u001b[0;36m10\u001b[0m\u001b[0;34m)\u001b[0m \u001b[0;32mif\u001b[0m \u001b[0mnumber\u001b[0m\u001b[0;34m%\u001b[0m\u001b[0;36m2\u001b[0m \u001b[0;34m==\u001b[0m\u001b[0;36m0\u001b[0m\u001b[0;34m]\u001b[0m\u001b[0;34m\u001b[0m\u001b[0;34m\u001b[0m\u001b[0m\n\u001b[1;32m      7\u001b[0m \u001b[0mmy_list\u001b[0m\u001b[0;34m\u001b[0m\u001b[0;34m\u001b[0m\u001b[0m\n",
      "\u001b[0;31mTypeError\u001b[0m: filter expected 2 arguments, got 3"
     ]
    }
   ],
   "source": [
    "my_funtion = lambda a: a%2-1\n",
    "result= list(filter(my_funtion,range(0,10)))\n",
    "print(result)\n",
    "my_fuc2 = lambda a,b: a == b\n",
    "result2 = list(filter(my_fuc2,'adwcerw','b'))\n",
    "my_list = [number for number in range(0,10) if number%2 ==0]\n",
    "my_list"
   ]
  },
  {
   "cell_type": "code",
   "execution_count": null,
   "metadata": {},
   "outputs": [],
   "source": []
  },
  {
   "cell_type": "markdown",
   "metadata": {},
   "source": [
    "### lambda\n",
    "\n",
    "#### Grammar: \n",
    "- lambda argument_list:expression\n",
    "#### Feature:\n",
    "- anonymous\n",
    "- input and output: argument_list and expression \n",
    "- simple function\n",
    "\n",
    "#### solution:\n",
    "1. lambda to a variable.\n",
    "2. labmda function replace other function (no idea how to make it back)\n",
    "\n",
    "将lambda函数作为参数传递给其他函数。\n",
    "\n",
    "部分Python内置函数接收函数作为参数。典型的此类内置函数有这些：\n",
    "- filter函数。此时lambda函数用于指定过滤列表元素的条件。例如filter(lambda x: x % 3 == 0, [1, 2, 3])指定将列表[1,2,3]中能够被3整除的元素过滤出来，其结果是[3]。\n",
    "\n",
    "- sorted函数。此时lambda函数用于指定对列表中所有元素进行排序的准则。例如sorted([1, 2, 3, 4, 5, 6, 7, 8, 9], key=lambda x: abs(5-x))将列表[1, 2, 3, 4, 5, 6, 7, 8, 9]按照元素与5距离从小到大进行排序，其结果是[5, 4, 6, 3, 7, 2, 8, 1, 9]。\n",
    "\n",
    "- map函数。此时lambda函数用于指定对列表中每一个元素的共同操作。例如map(lambda x: x+1, [1, 2,3])将列表[1, 2, 3]中的元素分别加1，其结果[2, 3, 4]。\n",
    "\n",
    "- reduce函数。此时lambda函数用于指定列表中两两相邻元素的结合条件。例如reduce(lambda a, b: '{}, {}'.format(a, b), [1, 2, 3, 4, 5, 6, 7, 8, 9])将列表 [1, 2, 3, 4, 5, 6, 7, 8, 9]中的元素从左往右两两以逗号分隔的字符的形式依次结合起来，其结果是'1, 2, 3, 4, 5, 6, 7, 8, 9'。\n",
    "\n",
    "- 另外，部分Python库函数也接收函数作为参数，例如gevent的spawn函数。此时，lambda函数也能够作为参数传入。\n"
   ]
  },
  {
   "cell_type": "code",
   "execution_count": 11,
   "metadata": {},
   "outputs": [
    {
     "name": "stdout",
     "output_type": "stream",
     "text": [
      "[3]\n",
      "[5, 4, 6, 3, 7, 2, 1]\n",
      "[2, 3, 4]\n",
      "123456789\n"
     ]
    }
   ],
   "source": [
    "from functools import reduce\n",
    "filterResult = filter(lambda x : x %3 == 0, [1,2,3])\n",
    "print(list(filterResult))\n",
    "\n",
    "#sorted\n",
    "sortedResult=sorted([1,2,3,4,5,6,7],key=lambda x: abs(5-x))\n",
    "print(list(sortedResult))\n",
    "# map\n",
    "mapResult=map(lambda x:x+1,[1,2,3])\n",
    "print(list(mapResult))\n",
    "# reduce \n",
    "reduceResult = reduce(lambda a,b:'{}{}'.format(a,b),[1,2,3,4,5,6,7,8,9])\n",
    "print(reduceResult)\n",
    "\n"
   ]
  },
  {
   "cell_type": "code",
   "execution_count": 13,
   "metadata": {},
   "outputs": [
    {
     "name": "stdout",
     "output_type": "stream",
     "text": [
      "29304\n"
     ]
    }
   ],
   "source": [
    "def char2num(s): \n",
    "    return {'0': 0, '1': 1, '2': 2, '3': 3, '4': 4, '5': 5, '6': 6, '7': 7, '8': 8, '9': 9}[s] \n",
    "\n",
    "def str2int(s): \n",
    "    return reduce(lambda x, y: x * 10 + y, map(char2num, s)) \n",
    "\n",
    "a = str2int(\"29304\")\n",
    "print(a)"
   ]
  },
  {
   "cell_type": "code",
   "execution_count": 69,
   "metadata": {},
   "outputs": [
    {
     "name": "stdout",
     "output_type": "stream",
     "text": [
      "25\n",
      "125\n",
      "15\n"
     ]
    }
   ],
   "source": [
    "class FirstClass:\n",
    "    test='test'\n",
    "    def __init__(self,name,symbol):\n",
    "        self.name = name\n",
    "        self.symbol = symbol\n",
    "    def square(self):\n",
    "        return self.symbol*self.symbol\n",
    "    def cube(self):\n",
    "        return self.symbol*self.symbol*self.symbol\n",
    "    def multipyl(self,x):\n",
    "        return self.symbol * x\n",
    "        \n",
    "eg = FirstClass('Three',3)\n",
    "eg2= FirstClass('Five',5)\n",
    "\n",
    "print(eg2.square())\n",
    "print(eg2.cube())\n",
    "print(eg2.multipyl(3))"
   ]
  },
  {
   "cell_type": "code",
   "execution_count": 71,
   "metadata": {},
   "outputs": [
    {
     "name": "stdout",
     "output_type": "stream",
     "text": [
      "Eric earns 15000\n"
     ]
    }
   ],
   "source": [
    "class SoftWareEngineer:\n",
    "    def __init__(self,name,age):\n",
    "        self.name = name\n",
    "        self.age = age\n",
    "    def salary(self,value):\n",
    "        self.money = value\n",
    "        print(self.name, \"earns\", self.money)\n",
    "        \n",
    "a= SoftWareEngineer(\"Eric\",27)\n",
    "a.salary(15000)"
   ]
  },
  {
   "cell_type": "code",
   "execution_count": 73,
   "metadata": {},
   "outputs": [
    {
     "data": {
      "text/plain": [
       "['__class__',\n",
       " '__delattr__',\n",
       " '__dict__',\n",
       " '__dir__',\n",
       " '__doc__',\n",
       " '__eq__',\n",
       " '__format__',\n",
       " '__ge__',\n",
       " '__getattribute__',\n",
       " '__gt__',\n",
       " '__hash__',\n",
       " '__init__',\n",
       " '__init_subclass__',\n",
       " '__le__',\n",
       " '__lt__',\n",
       " '__module__',\n",
       " '__ne__',\n",
       " '__new__',\n",
       " '__reduce__',\n",
       " '__reduce_ex__',\n",
       " '__repr__',\n",
       " '__setattr__',\n",
       " '__sizeof__',\n",
       " '__str__',\n",
       " '__subclasshook__',\n",
       " '__weakref__',\n",
       " 'age',\n",
       " 'money',\n",
       " 'name',\n",
       " 'salary']"
      ]
     },
     "execution_count": 73,
     "metadata": {},
     "output_type": "execute_result"
    }
   ],
   "source": [
    "dir(a)"
   ]
  },
  {
   "cell_type": "code",
   "execution_count": 78,
   "metadata": {},
   "outputs": [
    {
     "name": "stdout",
     "output_type": "stream",
     "text": [
      "Dong earns 5000\n",
      "Dong is a  pregenat\n"
     ]
    }
   ],
   "source": [
    "class Artist(SoftWareEngineer):\n",
    "    def __init__(self,name,age,type):\n",
    "        SoftWareEngineer.__init__(self,name,age)\n",
    "        self.type = type\n",
    "    def artform(self,job):\n",
    "        self.job = job\n",
    "        print(self.name,\"is a \", self.job)\n",
    "\n",
    "b = Artist(\"Dong\",31,\"paint\")\n",
    "\n",
    "b.salary(5000)\n",
    "b.artform(\"pregenat\")"
   ]
  },
  {
   "cell_type": "code",
   "execution_count": 80,
   "metadata": {},
   "outputs": [
    {
     "name": "stdout",
     "output_type": "stream",
     "text": [
      "30\n"
     ]
    }
   ],
   "source": [
    "x = '{\"name\":\"John\", \"age\":30,\"city\":\"New York\"}'\n",
    "y = json.loads(x)\n",
    "print(y[\"age\"])"
   ]
  },
  {
   "cell_type": "code",
   "execution_count": 81,
   "metadata": {},
   "outputs": [
    {
     "name": "stdout",
     "output_type": "stream",
     "text": [
      "{\"name\": \"John\", \"age\": 30, \"city\": \"New York\"}\n"
     ]
    }
   ],
   "source": [
    "x= {\"name\":\"John\", \"age\":30,\"city\":\"New York\"}\n",
    "y = json.dumps(x)\n",
    "print(y)"
   ]
  },
  {
   "cell_type": "code",
   "execution_count": 83,
   "metadata": {},
   "outputs": [
    {
     "name": "stdout",
     "output_type": "stream",
     "text": [
      "[{\"Id\": \"1\", \"MSSubClass\": \"60\", \"MSZoning\": \"RL\", \"LotFrontage\": \"65\", \"LotArea\": \"8450\", \"Street\": \"Pave\", \"Alley\": \"NA\", \"LotShape\": \"Reg\", \"LandContour\": \"Lvl\", \"Utilities\": \"AllPub\", \"LotConfig\": \"Inside\", \"LandSlope\": \"Gtl\", \"Neighborhood\": \"CollgCr\", \"Condition1\": \"Norm\", \"Condition2\": \"Norm\", \"BldgType\": \"1Fam\", \"HouseStyle\": \"2Story\", \"OverallQual\": \"7\", \"OverallCond\": \"5\", \"YearBuilt\": \"2003\", \"YearRemodAdd\": \"2003\", \"RoofStyle\": \"Gable\", \"RoofMatl\": \"CompShg\", \"Exterior1st\": \"VinylSd\", \"Exterior2nd\": \"VinylSd\", \"MasVnrType\": \"BrkFace\", \"MasVnrArea\": \"196\", \"ExterQual\": \"Gd\", \"ExterCond\": \"TA\", \"Foundation\": \"PConc\", \"BsmtQual\": \"Gd\", \"BsmtCond\": \"TA\", \"BsmtExposure\": \"No\", \"BsmtFinType1\": \"GLQ\", \"BsmtFinSF1\": \"706\", \"BsmtFinType2\": \"Unf\", \"BsmtFinSF2\": \"0\", \"BsmtUnfSF\": \"150\", \"TotalBsmtSF\": \"856\", \"Heating\": \"GasA\", \"HeatingQC\": \"Ex\", \"CentralAir\": \"Y\", \"Electrical\": \"SBrkr\", \"1stFlrSF\": \"856\", \"2ndFlrSF\": \"854\", \"LowQualFinSF\": \"0\", \"GrLivArea\": \"1710\", \"BsmtFullBath\": \"1\", \"BsmtHalfBath\": \"0\", \"FullBath\": \"2\", \"HalfBath\": \"1\", \"BedroomAbvGr\": \"3\", \"KitchenAbvGr\": \"1\", \"KitchenQual\": \"Gd\", \"TotRmsAbvGrd\": \"8\", \"Functional\": \"Typ\", \"Fireplaces\": \"0\", \"FireplaceQu\": \"NA\", \"GarageType\": \"Attchd\", \"GarageYrBlt\": \"2003\", \"GarageFinish\": \"RFn\", \"GarageCars\": \"2\", \"GarageArea\": \"548\", \"GarageQual\": \"TA\", \"GarageCond\": \"TA\", \"PavedDrive\": \"Y\", \"WoodDeckSF\": \"0\", \"OpenPorchSF\": \"61\", \"EnclosedPorch\": \"0\", \"3SsnPorch\": \"0\", \"ScreenPorch\": \"0\", \"PoolArea\": \"0\", \"PoolQC\": \"NA\", \"Fence\": \"NA\", \"MiscFeature\": \"NA\", \"MiscVal\": \"0\", \"MoSold\": \"2\", \"YrSold\": \"2008\", \"SaleType\": \"WD\", \"SaleCondition\": \"Normal\", \"SalePrice\": \"208500\"}]\n"
     ]
    }
   ],
   "source": [
    "z = json.dumps(house_train[:1])\n",
    "print(z)s"
   ]
  },
  {
   "cell_type": "code",
   "execution_count": 85,
   "metadata": {},
   "outputs": [
    {
     "name": "stdout",
     "output_type": "stream",
     "text": [
      "{'name': 'MJ', 'age': 32, 'married': True, 'divorced': False, 'children': ('Ann', 'Billy'), 'pets': None, 'cars': [{'model': 'BMW 230', 'mpg': 27.5}, {'model': 'Ford Edge', 'mpg': 24.1}]}\n",
      "The 'try except' is finished\n"
     ]
    }
   ],
   "source": [
    "\n",
    "x = {\n",
    "  \"name\": \"MJ\",\n",
    "  \"age\": 32,\n",
    "  \"married\": True,\n",
    "  \"divorced\": False,\n",
    "  \"children\": (\"Ann\",\"Billy\"),\n",
    "  \"pets\": None,\n",
    "  \"cars\": [\n",
    "    {\"model\": \"BMW 230\", \"mpg\": 27.5},\n",
    "    {\"model\": \"Ford Edge\", \"mpg\": 24.1}\n",
    "  ]\n",
    "}\n",
    "\n",
    "\n",
    "try:\n",
    "  print(x)\n",
    "except:\n",
    "  print(\"Something went wrong\")\n",
    "finally:\n",
    "  print(\"The 'try except' is finished\")\n",
    "\n",
    "\n"
   ]
  },
  {
   "cell_type": "code",
   "execution_count": 86,
   "metadata": {},
   "outputs": [
    {
     "name": "stdout",
     "output_type": "stream",
     "text": [
      "apple\n",
      "banana\n",
      "cherry\n"
     ]
    }
   ],
   "source": [
    "\n",
    "\n",
    "mytuple = (\"apple\", \"banana\", \"cherry\")\n",
    "myit = iter(mytuple)\n",
    "\n",
    "print(next(myit))\n",
    "print(next(myit))\n",
    "print(next(myit))\n",
    "\n"
   ]
  },
  {
   "cell_type": "code",
   "execution_count": 89,
   "metadata": {},
   "outputs": [
    {
     "data": {
      "text/plain": [
       "tuple_iterator"
      ]
     },
     "execution_count": 89,
     "metadata": {},
     "output_type": "execute_result"
    }
   ],
   "source": [
    "type(myit)"
   ]
  },
  {
   "cell_type": "code",
   "execution_count": 90,
   "metadata": {},
   "outputs": [
    {
     "data": {
      "text/plain": [
       "['__class__',\n",
       " '__delattr__',\n",
       " '__dir__',\n",
       " '__doc__',\n",
       " '__eq__',\n",
       " '__format__',\n",
       " '__ge__',\n",
       " '__getattribute__',\n",
       " '__gt__',\n",
       " '__hash__',\n",
       " '__init__',\n",
       " '__init_subclass__',\n",
       " '__iter__',\n",
       " '__le__',\n",
       " '__length_hint__',\n",
       " '__lt__',\n",
       " '__ne__',\n",
       " '__new__',\n",
       " '__next__',\n",
       " '__reduce__',\n",
       " '__reduce_ex__',\n",
       " '__repr__',\n",
       " '__setattr__',\n",
       " '__setstate__',\n",
       " '__sizeof__',\n",
       " '__str__',\n",
       " '__subclasshook__']"
      ]
     },
     "execution_count": 90,
     "metadata": {},
     "output_type": "execute_result"
    }
   ],
   "source": [
    "dir(myit)"
   ]
  },
  {
   "cell_type": "code",
   "execution_count": 92,
   "metadata": {},
   "outputs": [
    {
     "data": {
      "text/plain": [
       "array([1, 2, 3])"
      ]
     },
     "execution_count": 92,
     "metadata": {},
     "output_type": "execute_result"
    }
   ],
   "source": [
    "mylist = [1,2,3]\n",
    "x = np.array(mylist)\n",
    "x"
   ]
  },
  {
   "cell_type": "code",
   "execution_count": 93,
   "metadata": {},
   "outputs": [
    {
     "data": {
      "text/plain": [
       "array([[ 7,  8,  9],\n",
       "       [10, 11, 12]])"
      ]
     },
     "execution_count": 93,
     "metadata": {},
     "output_type": "execute_result"
    }
   ],
   "source": [
    "\n",
    "\n",
    "m = np.array([[7, 8, 9], [10, 11, 12]])\n",
    "m\n",
    "\n"
   ]
  },
  {
   "cell_type": "code",
   "execution_count": null,
   "metadata": {},
   "outputs": [],
   "source": []
  }
 ],
 "metadata": {
  "kernelspec": {
   "display_name": "Python 3",
   "language": "python",
   "name": "python3"
  },
  "language_info": {
   "codemirror_mode": {
    "name": "ipython",
    "version": 3
   },
   "file_extension": ".py",
   "mimetype": "text/x-python",
   "name": "python",
   "nbconvert_exporter": "python",
   "pygments_lexer": "ipython3",
   "version": "3.7.1"
  }
 },
 "nbformat": 4,
 "nbformat_minor": 2
}
